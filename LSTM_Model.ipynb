{
 "cells": [
  {
   "cell_type": "markdown",
   "id": "895a490e",
   "metadata": {},
   "source": [
    "## Importing Dependencies"
   ]
  },
  {
   "cell_type": "code",
   "execution_count": 27,
   "id": "ef776b34",
   "metadata": {},
   "outputs": [
    {
     "name": "stdout",
     "output_type": "stream",
     "text": [
      "TensorFlow Version:  2.13.0\n"
     ]
    }
   ],
   "source": [
    "import tensorflow as tf\n",
    "import keras\n",
    "import yfinance as yf\n",
    "import numpy as np\n",
    "import pandas as pd\n",
    "import matplotlib.pyplot as plt\n",
    "\n",
    "# Check TensorFlow version\n",
    "print(\"TensorFlow Version: \", tf.__version__)"
   ]
  },
  {
   "cell_type": "markdown",
   "id": "191fffbe",
   "metadata": {},
   "source": [
    "## Loadind Data into data frame"
   ]
  },
  {
   "cell_type": "code",
   "execution_count": 28,
   "id": "ee61c2ab",
   "metadata": {},
   "outputs": [
    {
     "name": "stderr",
     "output_type": "stream",
     "text": [
      "[*********************100%%**********************]  1 of 1 completed\n"
     ]
    },
    {
     "data": {
      "text/html": [
       "<div>\n",
       "<style scoped>\n",
       "    .dataframe tbody tr th:only-of-type {\n",
       "        vertical-align: middle;\n",
       "    }\n",
       "\n",
       "    .dataframe tbody tr th {\n",
       "        vertical-align: top;\n",
       "    }\n",
       "\n",
       "    .dataframe thead th {\n",
       "        text-align: right;\n",
       "    }\n",
       "</style>\n",
       "<table border=\"1\" class=\"dataframe\">\n",
       "  <thead>\n",
       "    <tr style=\"text-align: right;\">\n",
       "      <th></th>\n",
       "      <th>Open</th>\n",
       "      <th>High</th>\n",
       "      <th>Low</th>\n",
       "      <th>Close</th>\n",
       "      <th>Adj Close</th>\n",
       "      <th>Volume</th>\n",
       "    </tr>\n",
       "    <tr>\n",
       "      <th>Date</th>\n",
       "      <th></th>\n",
       "      <th></th>\n",
       "      <th></th>\n",
       "      <th></th>\n",
       "      <th></th>\n",
       "      <th></th>\n",
       "    </tr>\n",
       "  </thead>\n",
       "  <tbody>\n",
       "    <tr>\n",
       "      <th>2020-01-02</th>\n",
       "      <td>74.059998</td>\n",
       "      <td>75.150002</td>\n",
       "      <td>73.797501</td>\n",
       "      <td>75.087502</td>\n",
       "      <td>73.059433</td>\n",
       "      <td>135480400</td>\n",
       "    </tr>\n",
       "    <tr>\n",
       "      <th>2020-01-03</th>\n",
       "      <td>74.287498</td>\n",
       "      <td>75.144997</td>\n",
       "      <td>74.125000</td>\n",
       "      <td>74.357498</td>\n",
       "      <td>72.349159</td>\n",
       "      <td>146322800</td>\n",
       "    </tr>\n",
       "    <tr>\n",
       "      <th>2020-01-06</th>\n",
       "      <td>73.447502</td>\n",
       "      <td>74.989998</td>\n",
       "      <td>73.187500</td>\n",
       "      <td>74.949997</td>\n",
       "      <td>72.925636</td>\n",
       "      <td>118387200</td>\n",
       "    </tr>\n",
       "    <tr>\n",
       "      <th>2020-01-07</th>\n",
       "      <td>74.959999</td>\n",
       "      <td>75.224998</td>\n",
       "      <td>74.370003</td>\n",
       "      <td>74.597504</td>\n",
       "      <td>72.582664</td>\n",
       "      <td>108872000</td>\n",
       "    </tr>\n",
       "    <tr>\n",
       "      <th>2020-01-08</th>\n",
       "      <td>74.290001</td>\n",
       "      <td>76.110001</td>\n",
       "      <td>74.290001</td>\n",
       "      <td>75.797501</td>\n",
       "      <td>73.750244</td>\n",
       "      <td>132079200</td>\n",
       "    </tr>\n",
       "  </tbody>\n",
       "</table>\n",
       "</div>"
      ],
      "text/plain": [
       "                 Open       High        Low      Close  Adj Close     Volume\n",
       "Date                                                                        \n",
       "2020-01-02  74.059998  75.150002  73.797501  75.087502  73.059433  135480400\n",
       "2020-01-03  74.287498  75.144997  74.125000  74.357498  72.349159  146322800\n",
       "2020-01-06  73.447502  74.989998  73.187500  74.949997  72.925636  118387200\n",
       "2020-01-07  74.959999  75.224998  74.370003  74.597504  72.582664  108872000\n",
       "2020-01-08  74.290001  76.110001  74.290001  75.797501  73.750244  132079200"
      ]
     },
     "execution_count": 28,
     "metadata": {},
     "output_type": "execute_result"
    }
   ],
   "source": [
    "# Fetch AAPL data\n",
    "aapl_data = yf.download('AAPL', start='2020-01-01', end='2024-04-20')\n",
    "\n",
    "# This script fetches the daily stock prices of Apple Inc. from January 1, 2020, to April 20, 2024\n",
    "\n",
    "# Display the first few rows of the dataframe\n",
    "aapl_data.head()"
   ]
  },
  {
   "cell_type": "markdown",
   "id": "0227e915",
   "metadata": {},
   "source": [
    "## Handling Missing Values"
   ]
  },
  {
   "cell_type": "code",
   "execution_count": 29,
   "id": "cdb14c83",
   "metadata": {},
   "outputs": [],
   "source": [
    "# Checking for missing values\n",
    "aapl_data.isnull().sum()\n",
    "\n",
    "# Filling missing values, if any\n",
    "aapl_data.fillna(method='ffill', inplace=True)"
   ]
  },
  {
   "cell_type": "markdown",
   "id": "a634bd8b",
   "metadata": {},
   "source": [
    "## Normalization of Data"
   ]
  },
  {
   "cell_type": "code",
   "execution_count": 30,
   "id": "56b31a9b",
   "metadata": {},
   "outputs": [],
   "source": [
    "# Normalization of Data : Applying Min-Max Scaling: This scales the dataset so that all the input features lie between 0 and 1.\n",
    "from sklearn.preprocessing import MinMaxScaler\n",
    "\n",
    "scaler = MinMaxScaler(feature_range=(0,1))\n",
    "aapl_data_scaled = scaler.fit_transform(aapl_data['Close'].values.reshape(-1,1))"
   ]
  },
  {
   "cell_type": "markdown",
   "id": "9d101b27",
   "metadata": {},
   "source": [
    "## DATA Transformation to Sequence Format"
   ]
  },
  {
   "cell_type": "code",
   "execution_count": 31,
   "id": "951f3242",
   "metadata": {},
   "outputs": [],
   "source": [
    "#LSTM models require input to be in a sequence format. We are transforming the data into sequences for the model to learn from.\n",
    "#Defining Sequence Length: Choosing a sequence length (60 days). This means, for every sample, the model will look at the last 60 days of data to make a prediction.\n",
    "\n",
    "X = []\n",
    "y = []\n",
    "\n",
    "for i in range(60, len(aapl_data_scaled)):\n",
    "    X.append(aapl_data_scaled[i-60:i, 0])\n",
    "    y.append(aapl_data_scaled[i, 0])"
   ]
  },
  {
   "cell_type": "markdown",
   "id": "794d796b",
   "metadata": {},
   "source": [
    "## Train-Test Split\n",
    "Split the data into training and testing sets to evaluate the model’s performance properly."
   ]
  },
  {
   "cell_type": "code",
   "execution_count": 32,
   "id": "a585b3d9",
   "metadata": {},
   "outputs": [],
   "source": [
    "#Defining Split Ratio: Typically, 80% of data is used for training and 20% for testing.\n",
    "\n",
    "train_size = int(len(X) * 0.8)\n",
    "test_size = len(X) - train_size\n",
    "\n",
    "X_train, X_test = X[:train_size], X[train_size:]\n",
    "y_train, y_test = y[:train_size], y[train_size:]"
   ]
  },
  {
   "cell_type": "markdown",
   "id": "d81d1633",
   "metadata": {},
   "source": [
    "## Reshaping Data for LSTM"
   ]
  },
  {
   "cell_type": "code",
   "execution_count": 33,
   "id": "c93dac58",
   "metadata": {},
   "outputs": [],
   "source": [
    "# we need to reshape our data into a 3D format [samples, time steps, features] required by LSTM layers.\n",
    "X_train, y_train = np.array(X_train), np.array(y_train)\n",
    "X_train = np.reshape(X_train, (X_train.shape[0], X_train.shape[1], 1))"
   ]
  },
  {
   "cell_type": "markdown",
   "id": "e3ef65e7",
   "metadata": {},
   "source": [
    "## Building the LSTM with Attention Model"
   ]
  },
  {
   "cell_type": "markdown",
   "id": "a9ab272c",
   "metadata": {},
   "source": [
    "**Creating LSTM Layers\n",
    "Our LSTM model will consist of several layers, including LSTM layers for processing the time-series data. The basic structure is as follows**"
   ]
  },
  {
   "cell_type": "code",
   "execution_count": 34,
   "id": "e1e6ade7",
   "metadata": {},
   "outputs": [],
   "source": [
    "from keras.models import Sequential\n",
    "from keras.layers import LSTM, Dense, Dropout, AdditiveAttention, Permute, Reshape, Multiply\n",
    "\n",
    "model = Sequential()\n",
    "\n",
    "# Adding LSTM layers with return_sequences=True\n",
    "model.add(LSTM(units=50, return_sequences=True, input_shape=(X_train.shape[1], 1)))\n",
    "model.add(LSTM(units=50, return_sequences=True))\n",
    "\n",
    "#In this model, units represent the number of neurons in each LSTM layer. \n",
    "#return_sequences=True is crucial in the first layers to ensure the output includes sequences, which are essential for stacking LSTM layers. \n",
    "#The final LSTM layer does not return sequences as we prepare the data for the attention layer."
   ]
  },
  {
   "cell_type": "markdown",
   "id": "36c36962",
   "metadata": {},
   "source": [
    "## Integrating the Attention Mechanism"
   ]
  },
  {
   "cell_type": "code",
   "execution_count": 35,
   "id": "6bcf234b",
   "metadata": {},
   "outputs": [],
   "source": [
    "# Adding self-attention mechanism\n",
    "# The attention mechanism\n",
    "attention = AdditiveAttention(name='attention_weight')\n",
    "# Permute and reshape for compatibility\n",
    "model.add(Permute((2, 1))) \n",
    "model.add(Reshape((-1, X_train.shape[1])))\n",
    "attention_result = attention([model.output, model.output])\n",
    "multiply_layer = Multiply()([model.output, attention_result])\n",
    "# Return to original shape\n",
    "model.add(Permute((2, 1))) \n",
    "model.add(Reshape((-1, 50)))\n",
    "\n",
    "# Adding a Flatten layer before the final Dense layer\n",
    "model.add(tf.keras.layers.Flatten())\n",
    "\n",
    "# Final Dense layer\n",
    "model.add(Dense(1))\n",
    "\n",
    "# Compile the model\n",
    "# model.compile(optimizer='adam', loss='mean_squared_error')\n",
    "\n",
    "# Train the model\n",
    "# history = model.fit(X_train, y_train, epochs=100, batch_size=25, validation_split=0.2)"
   ]
  },
  {
   "cell_type": "markdown",
   "id": "6929e239",
   "metadata": {},
   "source": [
    "**This custom layer computes a weighted sum of the input sequence, allowing the model to pay more attention to certain time steps**"
   ]
  },
  {
   "cell_type": "markdown",
   "id": "1dbf2f4d",
   "metadata": {},
   "source": [
    "## Optimizing the Model"
   ]
  },
  {
   "cell_type": "markdown",
   "id": "c57a4603",
   "metadata": {},
   "source": [
    "**To enhance the model’s performance and reduce the risk of overfitting, we include Dropout and Batch Normalization.**"
   ]
  },
  {
   "cell_type": "code",
   "execution_count": 36,
   "id": "eadc9c38",
   "metadata": {},
   "outputs": [],
   "source": [
    "from keras.layers import BatchNormalization\n",
    "\n",
    "# Adding Dropout and Batch Normalization\n",
    "model.add(Dropout(0.2))\n",
    "model.add(BatchNormalization())\n",
    "\n",
    "#Dropout helps in preventing overfitting by randomly setting a fraction of the input units to 0 at each update during training.\n",
    "#Batch Normalization stabilizes the learning process."
   ]
  },
  {
   "cell_type": "markdown",
   "id": "1b4f5d1b",
   "metadata": {},
   "source": [
    "## Model Compilation"
   ]
  },
  {
   "cell_type": "markdown",
   "id": "7b789419",
   "metadata": {},
   "source": [
    "**compile the model with an optimizer and loss function suited for our regression task.**"
   ]
  },
  {
   "cell_type": "code",
   "execution_count": 37,
   "id": "f936aafd",
   "metadata": {},
   "outputs": [],
   "source": [
    "model.compile(optimizer='adam', loss='mean_squared_error')\n",
    "\n",
    "#adam optimizer is generally a good choice for recurrent neural networks, and mean squared error works well as a loss function for regression tasks."
   ]
  },
  {
   "cell_type": "markdown",
   "id": "2e0d3c31",
   "metadata": {},
   "source": [
    "## Model Summary"
   ]
  },
  {
   "cell_type": "markdown",
   "id": "455ddd52",
   "metadata": {},
   "source": [
    "**to understand its structure and number of parameters, we are viewing the model summary**"
   ]
  },
  {
   "cell_type": "code",
   "execution_count": 38,
   "id": "6868b797",
   "metadata": {},
   "outputs": [
    {
     "name": "stdout",
     "output_type": "stream",
     "text": [
      "Model: \"sequential_1\"\n",
      "_________________________________________________________________\n",
      " Layer (type)                Output Shape              Param #   \n",
      "=================================================================\n",
      " lstm_2 (LSTM)               (None, 60, 50)            10400     \n",
      "                                                                 \n",
      " lstm_3 (LSTM)               (None, 60, 50)            20200     \n",
      "                                                                 \n",
      " permute_2 (Permute)         (None, 50, 60)            0         \n",
      "                                                                 \n",
      " reshape_2 (Reshape)         (None, 50, 60)            0         \n",
      "                                                                 \n",
      " permute_3 (Permute)         (None, 60, 50)            0         \n",
      "                                                                 \n",
      " reshape_3 (Reshape)         (None, 60, 50)            0         \n",
      "                                                                 \n",
      " flatten_1 (Flatten)         (None, 3000)              0         \n",
      "                                                                 \n",
      " dense_1 (Dense)             (None, 1)                 3001      \n",
      "                                                                 \n",
      " dropout_2 (Dropout)         (None, 1)                 0         \n",
      "                                                                 \n",
      " batch_normalization_2 (Bat  (None, 1)                 4         \n",
      " chNormalization)                                                \n",
      "                                                                 \n",
      "=================================================================\n",
      "Total params: 33605 (131.27 KB)\n",
      "Trainable params: 33603 (131.26 KB)\n",
      "Non-trainable params: 2 (8.00 Byte)\n",
      "_________________________________________________________________\n"
     ]
    }
   ],
   "source": [
    "model.summary()\n"
   ]
  },
  {
   "cell_type": "markdown",
   "id": "eb5c9287",
   "metadata": {},
   "source": [
    "## Training the Model"
   ]
  },
  {
   "cell_type": "markdown",
   "id": "43ef69b2",
   "metadata": {},
   "source": [
    "**LSTM model with attention is built, it’s time to train it using our prepared training set**"
   ]
  },
  {
   "cell_type": "code",
   "execution_count": 39,
   "id": "0b37eaca",
   "metadata": {},
   "outputs": [
    {
     "name": "stdout",
     "output_type": "stream",
     "text": [
      "Epoch 1/100\n",
      "27/27 [==============================] - 4s 41ms/step - loss: 0.4855 - val_loss: 0.4530\n",
      "Epoch 2/100\n",
      "27/27 [==============================] - 1s 23ms/step - loss: 0.2820 - val_loss: 0.4302\n",
      "Epoch 3/100\n",
      "27/27 [==============================] - 1s 23ms/step - loss: 0.2501 - val_loss: 0.4069\n",
      "Epoch 4/100\n",
      "27/27 [==============================] - 1s 24ms/step - loss: 0.2292 - val_loss: 0.3516\n",
      "Epoch 5/100\n",
      "27/27 [==============================] - 1s 23ms/step - loss: 0.2074 - val_loss: 0.3361\n",
      "Epoch 6/100\n",
      "27/27 [==============================] - 1s 24ms/step - loss: 0.1820 - val_loss: 0.3050\n",
      "Epoch 7/100\n",
      "27/27 [==============================] - 1s 23ms/step - loss: 0.1619 - val_loss: 0.2852\n",
      "Epoch 8/100\n",
      "27/27 [==============================] - 1s 22ms/step - loss: 0.1480 - val_loss: 0.2556\n",
      "Epoch 9/100\n",
      "27/27 [==============================] - 1s 23ms/step - loss: 0.1310 - val_loss: 0.2271\n",
      "Epoch 10/100\n",
      "27/27 [==============================] - 1s 22ms/step - loss: 0.1152 - val_loss: 0.2077\n",
      "Epoch 11/100\n",
      "27/27 [==============================] - 1s 23ms/step - loss: 0.1050 - val_loss: 0.1938\n",
      "Epoch 12/100\n",
      "27/27 [==============================] - 1s 24ms/step - loss: 0.0936 - val_loss: 0.1815\n",
      "Epoch 13/100\n",
      "27/27 [==============================] - 1s 23ms/step - loss: 0.0828 - val_loss: 0.1506\n",
      "Epoch 14/100\n",
      "27/27 [==============================] - 1s 24ms/step - loss: 0.0725 - val_loss: 0.1451\n",
      "Epoch 15/100\n",
      "27/27 [==============================] - 1s 24ms/step - loss: 0.0649 - val_loss: 0.1182\n",
      "Epoch 16/100\n",
      "27/27 [==============================] - 1s 23ms/step - loss: 0.0576 - val_loss: 0.1186\n",
      "Epoch 17/100\n",
      "27/27 [==============================] - 1s 23ms/step - loss: 0.0490 - val_loss: 0.0980\n",
      "Epoch 18/100\n",
      "27/27 [==============================] - 1s 23ms/step - loss: 0.0461 - val_loss: 0.0842\n",
      "Epoch 19/100\n",
      "27/27 [==============================] - 1s 23ms/step - loss: 0.0399 - val_loss: 0.0872\n",
      "Epoch 20/100\n",
      "27/27 [==============================] - 1s 23ms/step - loss: 0.0371 - val_loss: 0.1060\n",
      "Epoch 21/100\n",
      "27/27 [==============================] - 1s 23ms/step - loss: 0.0331 - val_loss: 0.0960\n",
      "Epoch 22/100\n",
      "27/27 [==============================] - 1s 22ms/step - loss: 0.0278 - val_loss: 0.0481\n",
      "Epoch 23/100\n",
      "27/27 [==============================] - 1s 22ms/step - loss: 0.0256 - val_loss: 0.0353\n",
      "Epoch 24/100\n",
      "27/27 [==============================] - 1s 22ms/step - loss: 0.0239 - val_loss: 0.0543\n",
      "Epoch 25/100\n",
      "27/27 [==============================] - 1s 22ms/step - loss: 0.0211 - val_loss: 0.0264\n",
      "Epoch 26/100\n",
      "27/27 [==============================] - 1s 22ms/step - loss: 0.0180 - val_loss: 0.0366\n",
      "Epoch 27/100\n",
      "27/27 [==============================] - 1s 22ms/step - loss: 0.0165 - val_loss: 0.0366\n",
      "Epoch 28/100\n",
      "27/27 [==============================] - 1s 22ms/step - loss: 0.0166 - val_loss: 0.0343\n",
      "Epoch 29/100\n",
      "27/27 [==============================] - 1s 22ms/step - loss: 0.0137 - val_loss: 0.0227\n",
      "Epoch 30/100\n",
      "27/27 [==============================] - 1s 22ms/step - loss: 0.0148 - val_loss: 0.0264\n",
      "Epoch 31/100\n",
      "27/27 [==============================] - 1s 22ms/step - loss: 0.0135 - val_loss: 0.0289\n",
      "Epoch 32/100\n",
      "27/27 [==============================] - 1s 22ms/step - loss: 0.0121 - val_loss: 0.0091\n",
      "Epoch 33/100\n",
      "27/27 [==============================] - 1s 22ms/step - loss: 0.0115 - val_loss: 0.0124\n",
      "Epoch 34/100\n",
      "27/27 [==============================] - 1s 22ms/step - loss: 0.0102 - val_loss: 0.0080\n",
      "Epoch 35/100\n",
      "27/27 [==============================] - 1s 22ms/step - loss: 0.0107 - val_loss: 0.0028\n",
      "Epoch 36/100\n",
      "27/27 [==============================] - 1s 23ms/step - loss: 0.0101 - val_loss: 0.0031\n",
      "Epoch 37/100\n",
      "27/27 [==============================] - 1s 23ms/step - loss: 0.0126 - val_loss: 0.0471\n",
      "Epoch 38/100\n",
      "27/27 [==============================] - 1s 27ms/step - loss: 0.0095 - val_loss: 0.0257\n",
      "Epoch 39/100\n",
      "27/27 [==============================] - 1s 24ms/step - loss: 0.0113 - val_loss: 0.0019\n",
      "Epoch 40/100\n",
      "27/27 [==============================] - 1s 24ms/step - loss: 0.0100 - val_loss: 0.0035\n",
      "Epoch 41/100\n",
      "27/27 [==============================] - 1s 23ms/step - loss: 0.0125 - val_loss: 0.0041\n",
      "Epoch 42/100\n",
      "27/27 [==============================] - 1s 23ms/step - loss: 0.0124 - val_loss: 0.0241\n",
      "Epoch 43/100\n",
      "27/27 [==============================] - 1s 25ms/step - loss: 0.0111 - val_loss: 0.0068\n",
      "Epoch 44/100\n",
      "27/27 [==============================] - 1s 27ms/step - loss: 0.0088 - val_loss: 0.0051\n",
      "Epoch 45/100\n",
      "27/27 [==============================] - 1s 30ms/step - loss: 0.0110 - val_loss: 0.0032\n",
      "Epoch 46/100\n",
      "27/27 [==============================] - 1s 28ms/step - loss: 0.0105 - val_loss: 0.0128\n",
      "Epoch 47/100\n",
      "27/27 [==============================] - 1s 25ms/step - loss: 0.0139 - val_loss: 0.0052\n",
      "Epoch 48/100\n",
      "27/27 [==============================] - 1s 25ms/step - loss: 0.0101 - val_loss: 0.0020\n",
      "Epoch 49/100\n",
      "27/27 [==============================] - 1s 23ms/step - loss: 0.0115 - val_loss: 0.0019\n",
      "Epoch 50/100\n",
      "27/27 [==============================] - 1s 24ms/step - loss: 0.0099 - val_loss: 0.0030\n",
      "Epoch 51/100\n",
      "27/27 [==============================] - 1s 23ms/step - loss: 0.0102 - val_loss: 0.0027\n",
      "Epoch 52/100\n",
      "27/27 [==============================] - 1s 24ms/step - loss: 0.0097 - val_loss: 0.0030\n",
      "Epoch 53/100\n",
      "27/27 [==============================] - 1s 23ms/step - loss: 0.0092 - val_loss: 0.0018\n",
      "Epoch 54/100\n",
      "27/27 [==============================] - 1s 22ms/step - loss: 0.0076 - val_loss: 0.0092\n",
      "Epoch 55/100\n",
      "27/27 [==============================] - 1s 24ms/step - loss: 0.0098 - val_loss: 0.0058\n",
      "Epoch 56/100\n",
      "27/27 [==============================] - 1s 26ms/step - loss: 0.0099 - val_loss: 0.0041\n",
      "Epoch 57/100\n",
      "27/27 [==============================] - 1s 23ms/step - loss: 0.0110 - val_loss: 0.0162\n",
      "Epoch 58/100\n",
      "27/27 [==============================] - 1s 22ms/step - loss: 0.0130 - val_loss: 0.0018\n",
      "Epoch 59/100\n",
      "27/27 [==============================] - 1s 22ms/step - loss: 0.0112 - val_loss: 0.0037\n",
      "Epoch 60/100\n",
      "27/27 [==============================] - 1s 22ms/step - loss: 0.0092 - val_loss: 0.0064\n",
      "Epoch 61/100\n",
      "27/27 [==============================] - 1s 22ms/step - loss: 0.0103 - val_loss: 0.0025\n",
      "Epoch 62/100\n",
      "27/27 [==============================] - 1s 23ms/step - loss: 0.0080 - val_loss: 0.0014\n",
      "Epoch 63/100\n",
      "27/27 [==============================] - 1s 22ms/step - loss: 0.0108 - val_loss: 0.0035\n",
      "Epoch 64/100\n",
      "27/27 [==============================] - 1s 26ms/step - loss: 0.0120 - val_loss: 0.0063\n",
      "Epoch 65/100\n",
      "27/27 [==============================] - 1s 24ms/step - loss: 0.0113 - val_loss: 0.0133\n",
      "Epoch 66/100\n",
      "27/27 [==============================] - 1s 25ms/step - loss: 0.0100 - val_loss: 0.0019\n",
      "Epoch 67/100\n",
      "27/27 [==============================] - 1s 27ms/step - loss: 0.0102 - val_loss: 0.0035\n",
      "Epoch 68/100\n",
      "27/27 [==============================] - 1s 24ms/step - loss: 0.0099 - val_loss: 0.0017\n",
      "Epoch 69/100\n",
      "27/27 [==============================] - 1s 25ms/step - loss: 0.0122 - val_loss: 0.0019\n",
      "Epoch 70/100\n",
      "27/27 [==============================] - 1s 27ms/step - loss: 0.0108 - val_loss: 0.0022\n",
      "Epoch 71/100\n",
      "27/27 [==============================] - 1s 28ms/step - loss: 0.0091 - val_loss: 0.0116\n",
      "Epoch 72/100\n",
      "27/27 [==============================] - 1s 29ms/step - loss: 0.0113 - val_loss: 0.0118\n",
      "Epoch 73/100\n",
      "27/27 [==============================] - 1s 25ms/step - loss: 0.0086 - val_loss: 0.0015\n",
      "Epoch 74/100\n",
      "27/27 [==============================] - 1s 25ms/step - loss: 0.0096 - val_loss: 0.0013\n",
      "Epoch 75/100\n",
      "27/27 [==============================] - 1s 23ms/step - loss: 0.0096 - val_loss: 0.0065\n",
      "Epoch 76/100\n",
      "27/27 [==============================] - 1s 22ms/step - loss: 0.0086 - val_loss: 0.0050\n",
      "Epoch 77/100\n",
      "27/27 [==============================] - 1s 22ms/step - loss: 0.0109 - val_loss: 0.0027\n",
      "Epoch 78/100\n",
      "27/27 [==============================] - 1s 24ms/step - loss: 0.0086 - val_loss: 0.0418\n",
      "Epoch 79/100\n",
      "27/27 [==============================] - 1s 23ms/step - loss: 0.0126 - val_loss: 0.0145\n",
      "Epoch 80/100\n",
      "27/27 [==============================] - 1s 22ms/step - loss: 0.0083 - val_loss: 0.0100\n",
      "Epoch 81/100\n",
      "27/27 [==============================] - 1s 25ms/step - loss: 0.0105 - val_loss: 0.0045\n",
      "Epoch 82/100\n",
      "27/27 [==============================] - 1s 22ms/step - loss: 0.0104 - val_loss: 0.0046\n",
      "Epoch 83/100\n",
      "27/27 [==============================] - 1s 22ms/step - loss: 0.0096 - val_loss: 0.0031\n",
      "Epoch 84/100\n",
      "27/27 [==============================] - 1s 23ms/step - loss: 0.0082 - val_loss: 0.0115\n",
      "Epoch 85/100\n",
      "27/27 [==============================] - 1s 22ms/step - loss: 0.0104 - val_loss: 0.0059\n",
      "Epoch 86/100\n",
      "27/27 [==============================] - 1s 22ms/step - loss: 0.0143 - val_loss: 0.0022\n",
      "Epoch 87/100\n",
      "27/27 [==============================] - 1s 22ms/step - loss: 0.0097 - val_loss: 0.0027\n",
      "Epoch 88/100\n",
      "27/27 [==============================] - 1s 23ms/step - loss: 0.0093 - val_loss: 0.0027\n",
      "Epoch 89/100\n",
      "27/27 [==============================] - 1s 24ms/step - loss: 0.0102 - val_loss: 0.0042\n",
      "Epoch 90/100\n",
      "27/27 [==============================] - 1s 24ms/step - loss: 0.0085 - val_loss: 0.0015\n",
      "Epoch 91/100\n",
      "27/27 [==============================] - 1s 23ms/step - loss: 0.0089 - val_loss: 0.0014\n",
      "Epoch 92/100\n",
      "27/27 [==============================] - 1s 23ms/step - loss: 0.0103 - val_loss: 0.0022\n",
      "Epoch 93/100\n",
      "27/27 [==============================] - 1s 24ms/step - loss: 0.0102 - val_loss: 0.0024\n",
      "Epoch 94/100\n",
      "27/27 [==============================] - 1s 26ms/step - loss: 0.0095 - val_loss: 0.0050\n",
      "Epoch 95/100\n",
      "27/27 [==============================] - 1s 24ms/step - loss: 0.0089 - val_loss: 0.0016\n",
      "Epoch 96/100\n",
      "27/27 [==============================] - 1s 24ms/step - loss: 0.0092 - val_loss: 0.0019\n",
      "Epoch 97/100\n",
      "27/27 [==============================] - 1s 24ms/step - loss: 0.0090 - val_loss: 0.0144\n",
      "Epoch 98/100\n",
      "27/27 [==============================] - 1s 23ms/step - loss: 0.0110 - val_loss: 0.0031\n",
      "Epoch 99/100\n",
      "27/27 [==============================] - 1s 28ms/step - loss: 0.0106 - val_loss: 0.0014\n",
      "Epoch 100/100\n",
      "27/27 [==============================] - 1s 27ms/step - loss: 0.0092 - val_loss: 0.0023\n"
     ]
    }
   ],
   "source": [
    "# Assuming X_train and y_train are already defined and preprocessed\n",
    "history = model.fit(X_train, y_train, epochs=100, batch_size=25, validation_split=0.2)"
   ]
  },
  {
   "cell_type": "markdown",
   "id": "9df33ea1",
   "metadata": {},
   "source": [
    "**Here, we train the model for 100 epochs with a batch size of 25. The validation_split parameter reserves a portion of the training data for validation, allowing us to monitor the model's performance on unseen data during training.**"
   ]
  },
  {
   "cell_type": "markdown",
   "id": "0fcd5e37",
   "metadata": {},
   "source": [
    "## Handling Overfitting"
   ]
  },
  {
   "cell_type": "markdown",
   "id": "7b5630b2",
   "metadata": {},
   "source": [
    "**Overfitting occurs when a model learns patterns specific to the training data, which do not generalize to new data. Here are ways to avoid overfitting:\n",
    "\n",
    "**Validation Set: Using a validation set (as we did in the training code) helps in monitoring the model’s performance on unseen data.**\n",
    "**Early Stopping: This technique stops training when the model’s performance on the validation set starts to degrade. Implementing early stopping in Keras is straightforward:**"
   ]
  },
  {
   "cell_type": "code",
   "execution_count": 40,
   "id": "e8ef193c",
   "metadata": {},
   "outputs": [
    {
     "name": "stdout",
     "output_type": "stream",
     "text": [
      "Epoch 1/100\n",
      "27/27 [==============================] - 1s 29ms/step - loss: 0.0102 - val_loss: 0.0021\n",
      "Epoch 2/100\n",
      "27/27 [==============================] - 1s 27ms/step - loss: 0.0119 - val_loss: 0.0127\n",
      "Epoch 3/100\n",
      "27/27 [==============================] - 1s 24ms/step - loss: 0.0083 - val_loss: 0.0129\n",
      "Epoch 4/100\n",
      "27/27 [==============================] - 1s 24ms/step - loss: 0.0107 - val_loss: 0.0024\n",
      "Epoch 5/100\n",
      "27/27 [==============================] - 1s 24ms/step - loss: 0.0104 - val_loss: 0.0015\n",
      "Epoch 6/100\n",
      "27/27 [==============================] - 1s 22ms/step - loss: 0.0085 - val_loss: 0.0033\n",
      "Epoch 7/100\n",
      "27/27 [==============================] - 1s 22ms/step - loss: 0.0094 - val_loss: 0.0017\n",
      "Epoch 8/100\n",
      "27/27 [==============================] - 1s 23ms/step - loss: 0.0099 - val_loss: 0.0012\n",
      "Epoch 9/100\n",
      "27/27 [==============================] - 1s 26ms/step - loss: 0.0102 - val_loss: 0.0018\n",
      "Epoch 10/100\n",
      "27/27 [==============================] - 1s 23ms/step - loss: 0.0137 - val_loss: 0.0084\n",
      "Epoch 11/100\n",
      "27/27 [==============================] - 1s 26ms/step - loss: 0.0115 - val_loss: 0.0183\n",
      "Epoch 12/100\n",
      "27/27 [==============================] - 1s 24ms/step - loss: 0.0116 - val_loss: 0.0131\n",
      "Epoch 13/100\n",
      "27/27 [==============================] - 1s 22ms/step - loss: 0.0080 - val_loss: 0.0035\n",
      "Epoch 14/100\n",
      "27/27 [==============================] - 1s 25ms/step - loss: 0.0108 - val_loss: 0.0027\n",
      "Epoch 15/100\n",
      "27/27 [==============================] - 1s 23ms/step - loss: 0.0099 - val_loss: 0.0026\n",
      "Epoch 16/100\n",
      "27/27 [==============================] - 1s 23ms/step - loss: 0.0123 - val_loss: 0.0076\n",
      "Epoch 17/100\n",
      "27/27 [==============================] - 1s 23ms/step - loss: 0.0097 - val_loss: 0.0386\n",
      "Epoch 18/100\n",
      "27/27 [==============================] - 1s 23ms/step - loss: 0.0108 - val_loss: 0.0145\n"
     ]
    }
   ],
   "source": [
    "from keras.callbacks import EarlyStopping\n",
    "\n",
    "early_stopping = EarlyStopping(monitor='val_loss', patience=10)\n",
    "history = model.fit(X_train, y_train, epochs=100, batch_size=25, validation_split=0.2, callbacks=[early_stopping])"
   ]
  },
  {
   "cell_type": "markdown",
   "id": "c1a03fca",
   "metadata": {},
   "source": [
    "**Here, patience=10 means training will stop if the validation loss does not improve for 10 consecutive epochs.\n",
    "Regularization Techniques: Techniques like Dropout and Batch Normalization, which are already included in our model, also help in reducing overfitting**"
   ]
  },
  {
   "cell_type": "code",
   "execution_count": 41,
   "id": "f2bed3d5",
   "metadata": {},
   "outputs": [
    {
     "name": "stdout",
     "output_type": "stream",
     "text": [
      "Epoch 1/100\n",
      "27/27 [==============================] - 1s 25ms/step - loss: 0.0125 - val_loss: 0.0078 - lr: 0.0010\n",
      "Epoch 2/100\n",
      " 7/27 [======>.......................] - ETA: 0s - loss: 0.0111"
     ]
    },
    {
     "name": "stderr",
     "output_type": "stream",
     "text": [
      "C:\\Users\\drshaheed\\anaconda3\\envs\\pycaret\\lib\\site-packages\\keras\\src\\engine\\training.py:3000: UserWarning: You are saving your model as an HDF5 file via `model.save()`. This file format is considered legacy. We recommend using instead the native Keras format, e.g. `model.save('my_model.keras')`.\n",
      "  saving_api.save_model(\n"
     ]
    },
    {
     "name": "stdout",
     "output_type": "stream",
     "text": [
      "27/27 [==============================] - 1s 23ms/step - loss: 0.0078 - val_loss: 0.0183 - lr: 0.0010\n",
      "Epoch 3/100\n",
      "27/27 [==============================] - 1s 24ms/step - loss: 0.0101 - val_loss: 0.0040 - lr: 0.0010\n",
      "Epoch 4/100\n",
      "27/27 [==============================] - 1s 24ms/step - loss: 0.0104 - val_loss: 0.0029 - lr: 0.0010\n",
      "Epoch 5/100\n",
      "27/27 [==============================] - 1s 23ms/step - loss: 0.0110 - val_loss: 0.0023 - lr: 0.0010\n",
      "Epoch 6/100\n",
      "27/27 [==============================] - 1s 23ms/step - loss: 0.0077 - val_loss: 0.0140 - lr: 0.0010\n",
      "Epoch 7/100\n",
      "27/27 [==============================] - 1s 23ms/step - loss: 0.0091 - val_loss: 0.0059 - lr: 0.0010\n",
      "Epoch 8/100\n",
      "27/27 [==============================] - 1s 24ms/step - loss: 0.0092 - val_loss: 0.0054 - lr: 0.0010\n",
      "Epoch 9/100\n",
      "27/27 [==============================] - 1s 23ms/step - loss: 0.0082 - val_loss: 0.0165 - lr: 0.0010\n",
      "Epoch 10/100\n",
      "27/27 [==============================] - 1s 24ms/step - loss: 0.0120 - val_loss: 0.0020 - lr: 0.0010\n",
      "Epoch 11/100\n",
      "27/27 [==============================] - 1s 24ms/step - loss: 0.0105 - val_loss: 0.0012 - lr: 0.0010\n",
      "Epoch 12/100\n",
      "27/27 [==============================] - 1s 23ms/step - loss: 0.0108 - val_loss: 0.0025 - lr: 0.0010\n",
      "Epoch 13/100\n",
      "27/27 [==============================] - 1s 23ms/step - loss: 0.0092 - val_loss: 0.0018 - lr: 0.0010\n",
      "Epoch 14/100\n",
      "27/27 [==============================] - 1s 25ms/step - loss: 0.0094 - val_loss: 0.0020 - lr: 0.0010\n",
      "Epoch 15/100\n",
      "27/27 [==============================] - 1s 23ms/step - loss: 0.0111 - val_loss: 0.0106 - lr: 0.0010\n",
      "Epoch 16/100\n",
      "27/27 [==============================] - 1s 23ms/step - loss: 0.0106 - val_loss: 0.0055 - lr: 0.0010\n",
      "Epoch 17/100\n",
      "27/27 [==============================] - 1s 23ms/step - loss: 0.0115 - val_loss: 0.0024 - lr: 1.0000e-04\n",
      "Epoch 18/100\n",
      "27/27 [==============================] - 1s 23ms/step - loss: 0.0115 - val_loss: 0.0014 - lr: 1.0000e-04\n",
      "Epoch 19/100\n",
      "27/27 [==============================] - 1s 23ms/step - loss: 0.0093 - val_loss: 0.0021 - lr: 1.0000e-04\n",
      "Epoch 20/100\n",
      "27/27 [==============================] - 1s 23ms/step - loss: 0.0098 - val_loss: 0.0021 - lr: 1.0000e-04\n",
      "Epoch 21/100\n",
      "27/27 [==============================] - 1s 24ms/step - loss: 0.0082 - val_loss: 0.0019 - lr: 1.0000e-04\n"
     ]
    }
   ],
   "source": [
    "from keras.callbacks import ModelCheckpoint, ReduceLROnPlateau, TensorBoard, CSVLogger\n",
    "\n",
    "# Callback to save the model periodically\n",
    "model_checkpoint = ModelCheckpoint('best_model.h5', save_best_only=True, monitor='val_loss')\n",
    "\n",
    "# Callback to reduce learning rate when a metric has stopped improving\n",
    "reduce_lr = ReduceLROnPlateau(monitor='val_loss', factor=0.1, patience=5)\n",
    "\n",
    "# Callback for TensorBoard\n",
    "tensorboard = TensorBoard(log_dir='./logs')\n",
    "\n",
    "# Callback to log details to a CSV file\n",
    "csv_logger = CSVLogger('training_log.csv')\n",
    "\n",
    "# Combining all callbacks\n",
    "callbacks_list = [early_stopping, model_checkpoint, reduce_lr, tensorboard, csv_logger]\n",
    "\n",
    "# Fit the model with the callbacks\n",
    "history = model.fit(X_train, y_train, epochs=100, batch_size=25, validation_split=0.2, callbacks=callbacks_list)"
   ]
  },
  {
   "cell_type": "markdown",
   "id": "64019843",
   "metadata": {},
   "source": [
    "## Evaluating Model Performance"
   ]
  },
  {
   "cell_type": "code",
   "execution_count": 42,
   "id": "57604ced",
   "metadata": {},
   "outputs": [
    {
     "name": "stdout",
     "output_type": "stream",
     "text": [
      "7/7 [==============================] - 0s 10ms/step - loss: 0.0055\n",
      "Test Loss:  0.005522994790226221\n"
     ]
    }
   ],
   "source": [
    "#Evaluating with the Test Set\n",
    "#To evaluate the model, we first need to prepare our test data (X_test) in the same way we did for the training data. \n",
    "#Then, we can use the model's evaluate function:\n",
    "\n",
    "# Convert X_test and y_test to Numpy arrays if they are not already\n",
    "X_test = np.array(X_test)\n",
    "y_test = np.array(y_test)\n",
    "\n",
    "# Ensure X_test is reshaped similarly to how X_train was reshaped\n",
    "# This depends on how you preprocessed the training data\n",
    "X_test = np.reshape(X_test, (X_test.shape[0], X_test.shape[1], 1))\n",
    "\n",
    "# Now evaluate the model on the test data\n",
    "test_loss = model.evaluate(X_test, y_test)\n",
    "print(\"Test Loss: \", test_loss)"
   ]
  },
  {
   "cell_type": "markdown",
   "id": "74feb0c7",
   "metadata": {},
   "source": [
    "## Performance Metrics"
   ]
  },
  {
   "cell_type": "markdown",
   "id": "c279073e",
   "metadata": {},
   "source": [
    "**For regression tasks like ours, common metrics include:**\n",
    "\n",
    "**1. Mean Absolute Error (MAE): This measures the average magnitude of the errors in a set of predictions, without considering their direction.**\n",
    "\n",
    "\n",
    "**2. Root Mean Square Error (RMSE): This is the square root of the average of squared differences between prediction and actual observation.**"
   ]
  },
  {
   "cell_type": "code",
   "execution_count": 43,
   "id": "137d5bff",
   "metadata": {},
   "outputs": [
    {
     "name": "stdout",
     "output_type": "stream",
     "text": [
      "7/7 [==============================] - 1s 9ms/step\n",
      "Mean Absolute Error:  0.06965086696762926\n",
      "Root Mean Square Error:  0.07431685730347871\n"
     ]
    }
   ],
   "source": [
    "from sklearn.metrics import mean_absolute_error, mean_squared_error\n",
    "\n",
    "# Making predictions\n",
    "y_pred = model.predict(X_test)\n",
    "\n",
    "# Calculating MAE and RMSE\n",
    "mae = mean_absolute_error(y_test, y_pred)\n",
    "rmse = mean_squared_error(y_test, y_pred, squared=False)\n",
    "\n",
    "print(\"Mean Absolute Error: \", mae)\n",
    "print(\"Root Mean Square Error: \", rmse)"
   ]
  },
  {
   "cell_type": "markdown",
   "id": "f348e2ef",
   "metadata": {},
   "source": [
    "## Predicting the Next 4 Candles"
   ]
  },
  {
   "cell_type": "markdown",
   "id": "d15e79ce",
   "metadata": {},
   "source": [
    "**Having trained and evaluated our LSTM model with an attention mechanism, the final step is to utilize it for predicting the next 4 candles (days) of AAPL stock prices.**"
   ]
  },
  {
   "cell_type": "code",
   "execution_count": 44,
   "id": "2e59caa9",
   "metadata": {},
   "outputs": [
    {
     "name": "stderr",
     "output_type": "stream",
     "text": [
      "[*********************100%%**********************]  1 of 1 completed"
     ]
    },
    {
     "name": "stdout",
     "output_type": "stream",
     "text": [
      "1/1 [==============================] - 0s 18ms/step\n",
      "Predicted Stock Prices for the next 4 days:  [[169.9391]]\n"
     ]
    },
    {
     "name": "stderr",
     "output_type": "stream",
     "text": [
      "\n"
     ]
    }
   ],
   "source": [
    "import yfinance as yf\n",
    "import numpy as np\n",
    "from sklearn.preprocessing import MinMaxScaler\n",
    "\n",
    "# Fetching the latest 60 days of AAPL stock data\n",
    "data = yf.download('AAPL', period='60d', interval='1d')\n",
    "\n",
    "# Selecting the 'Close' price and converting to numpy array\n",
    "closing_prices = data['Close'].values\n",
    "\n",
    "# Scaling the data\n",
    "scaler = MinMaxScaler(feature_range=(0,1))\n",
    "scaled_data = scaler.fit_transform(closing_prices.reshape(-1,1))\n",
    "\n",
    "# Since we need the last 60 days to predict the next day, we reshape the data accordingly\n",
    "X_latest = np.array([scaled_data[-60:].reshape(60)])\n",
    "\n",
    "# Reshaping the data for the model (adding batch dimension)\n",
    "X_latest = np.reshape(X_latest, (X_latest.shape[0], X_latest.shape[1], 1))\n",
    "\n",
    "# Making predictions for the next 4 candles\n",
    "predicted_stock_price = model.predict(X_latest)\n",
    "predicted_stock_price = scaler.inverse_transform(predicted_stock_price)\n",
    "\n",
    "print(\"Predicted Stock Prices for the next 4 days: \", predicted_stock_price)"
   ]
  },
  {
   "cell_type": "markdown",
   "id": "ac34a35f",
   "metadata": {},
   "source": [
    "**Let’s predict the price for the next 4 days:**"
   ]
  },
  {
   "cell_type": "code",
   "execution_count": 45,
   "id": "d2197a65",
   "metadata": {},
   "outputs": [
    {
     "name": "stderr",
     "output_type": "stream",
     "text": [
      "[*********************100%%**********************]  1 of 1 completed"
     ]
    },
    {
     "name": "stdout",
     "output_type": "stream",
     "text": [
      "1/1 [==============================] - 0s 17ms/step\n"
     ]
    },
    {
     "name": "stderr",
     "output_type": "stream",
     "text": [
      "\n"
     ]
    },
    {
     "name": "stdout",
     "output_type": "stream",
     "text": [
      "1/1 [==============================] - 0s 17ms/step\n",
      "1/1 [==============================] - 0s 18ms/step\n",
      "1/1 [==============================] - 0s 17ms/step\n",
      "Predicted Stock Prices for the next 4 days:  [169.9391, 170.1527, 171.29424, 172.71075]\n"
     ]
    }
   ],
   "source": [
    "import yfinance as yf\n",
    "import numpy as np\n",
    "from sklearn.preprocessing import MinMaxScaler\n",
    "\n",
    "# Fetch the latest 60 days of AAPL stock data\n",
    "data = yf.download('AAPL', period='60d', interval='1d')\n",
    "\n",
    "# Select 'Close' price and scale it\n",
    "closing_prices = data['Close'].values.reshape(-1, 1)\n",
    "scaler = MinMaxScaler(feature_range=(0, 1))\n",
    "scaled_data = scaler.fit_transform(closing_prices)\n",
    "\n",
    "# Predict the next 4 days iteratively\n",
    "predicted_prices = []\n",
    "current_batch = scaled_data[-60:].reshape(1, 60, 1)  # Most recent 60 days\n",
    "\n",
    "for i in range(4):  # Predicting 4 days\n",
    "    # Get the prediction (next day)\n",
    "    next_prediction = model.predict(current_batch)\n",
    "    \n",
    "    # Reshape the prediction to fit the batch dimension\n",
    "    next_prediction_reshaped = next_prediction.reshape(1, 1, 1)\n",
    "    \n",
    "    # Append the prediction to the batch used for predicting\n",
    "    current_batch = np.append(current_batch[:, 1:, :], next_prediction_reshaped, axis=1)\n",
    "    \n",
    "    # Inverse transform the prediction to the original price scale\n",
    "    predicted_prices.append(scaler.inverse_transform(next_prediction)[0, 0])\n",
    "\n",
    "print(\"Predicted Stock Prices for the next 4 days: \", predicted_prices)"
   ]
  },
  {
   "cell_type": "markdown",
   "id": "2ae189bb",
   "metadata": {},
   "source": [
    "## Visualization of Predictions\n",
    "**Comparing the predicted values with actual stock prices visually can be very insightful. Below is the code to plot the predicted stock prices against the actual data:**"
   ]
  },
  {
   "cell_type": "code",
   "execution_count": 46,
   "id": "76b2d5e4",
   "metadata": {},
   "outputs": [
    {
     "data": {
      "image/png": "[encoded data removed]",
      "text/plain": [
       "<Figure size 800x575 with 4 Axes>"
      ]
     },
     "metadata": {},
     "output_type": "display_data"
    },
    {
     "data": {
      "image/png": "[encoded data removed]",
      "text/plain": [
       "<Figure size 1000x600 with 1 Axes>"
      ]
     },
     "metadata": {},
     "output_type": "display_data"
    }
   ],
   "source": [
    "import pandas as pd\n",
    "import mplfinance as mpf\n",
    "import matplotlib.dates as mpl_dates\n",
    "import matplotlib.pyplot as plt\n",
    "\n",
    "# Assuming 'data' is your DataFrame with the fetched AAPL stock data\n",
    "# Make sure it contains Open, High, Low, Close, and Volume columns\n",
    "\n",
    "# Creating a list of dates for the predictions\n",
    "last_date = data.index[-1]\n",
    "next_day = last_date + pd.Timedelta(days=1)\n",
    "prediction_dates = pd.date_range(start=next_day, periods=4)\n",
    "\n",
    "# Assuming 'predicted_prices' is your list of predicted prices for the next 4 days\n",
    "predictions_df = pd.DataFrame(index=prediction_dates, data=predicted_prices, columns=['Close'])\n",
    "\n",
    "# Plotting the actual data with mplfinance\n",
    "mpf.plot(data, type='candle', style='charles', volume=True)\n",
    "\n",
    "# Overlaying the predicted data\n",
    "plt.figure(figsize=(10,6))\n",
    "plt.plot(predictions_df.index, predictions_df['Close'], linestyle='dashed', marker='o', color='red')\n",
    "\n",
    "plt.title(\"AAPL Stock Price with Predicted Next 4 Days\")\n",
    "plt.show()"
   ]
  },
  {
   "cell_type": "markdown",
   "id": "f1e7b78a",
   "metadata": {},
   "source": [
    "## Final Visual for Predictions:"
   ]
  },
  {
   "cell_type": "code",
   "execution_count": 47,
   "id": "fe8b1140",
   "metadata": {},
   "outputs": [
    {
     "name": "stderr",
     "output_type": "stream",
     "text": [
      "[*********************100%%**********************]  1 of 1 completed"
     ]
    },
    {
     "name": "stdout",
     "output_type": "stream",
     "text": [
      "1/1 [==============================] - 0s 15ms/step\n",
      "1/1 [==============================] - 0s 17ms/step\n",
      "1/1 [==============================] - 0s 16ms/step\n",
      "1/1 [==============================] - 0s 16ms/step\n"
     ]
    },
    {
     "name": "stderr",
     "output_type": "stream",
     "text": [
      "\n"
     ]
    },
    {
     "data": {
      "image/png": "[encoded data removed]",
      "text/plain": [
       "<Figure size 1000x600 with 1 Axes>"
      ]
     },
     "metadata": {},
     "output_type": "display_data"
    }
   ],
   "source": [
    "import pandas as pd\n",
    "import mplfinance as mpf\n",
    "import matplotlib.dates as mpl_dates\n",
    "import matplotlib.pyplot as plt\n",
    "\n",
    "# Fetch the latest 60 days of AAPL stock data\n",
    "data = yf.download('AAPL', period='64d', interval='1d') # Fetch 64 days to display last 60 days in the chart\n",
    "\n",
    "# Select 'Close' price and scale it\n",
    "closing_prices = data['Close'].values.reshape(-1, 1)\n",
    "scaler = MinMaxScaler(feature_range=(0, 1))\n",
    "scaled_data = scaler.fit_transform(closing_prices)\n",
    "\n",
    "# Predict the next 4 days iteratively\n",
    "predicted_prices = []\n",
    "current_batch = scaled_data[-60:].reshape(1, 60, 1)  # Most recent 60 days\n",
    "\n",
    "for i in range(4):  # Predicting 4 days\n",
    "    next_prediction = model.predict(current_batch)\n",
    "    next_prediction_reshaped = next_prediction.reshape(1, 1, 1)\n",
    "    current_batch = np.append(current_batch[:, 1:, :], next_prediction_reshaped, axis=1)\n",
    "    predicted_prices.append(scaler.inverse_transform(next_prediction)[0, 0])\n",
    "\n",
    "# Creating a list of dates for the predictions\n",
    "last_date = data.index[-1]\n",
    "next_day = last_date + pd.Timedelta(days=1)\n",
    "prediction_dates = pd.date_range(start=next_day, periods=4)\n",
    "\n",
    "# Adding predictions to the DataFrame\n",
    "predicted_data = pd.DataFrame(index=prediction_dates, data=predicted_prices, columns=['Close'])\n",
    "\n",
    "# Combining both actual and predicted data\n",
    "combined_data = pd.concat([data['Close'], predicted_data['Close']])\n",
    "combined_data = combined_data[-64:] # Last 60 days of actual data + 4 days of predictions\n",
    "\n",
    "# Plotting the actual data\n",
    "plt.figure(figsize=(10,6))\n",
    "plt.plot(data.index[-60:], data['Close'][-60:], linestyle='-', marker='o', color='blue', label='Actual Data')\n",
    "\n",
    "# Plotting the predicted data\n",
    "plt.plot(prediction_dates, predicted_prices, linestyle='-', marker='o', color='red', label='Predicted Data')\n",
    "\n",
    "plt.title(\"AAPL Stock Price: Last 60 Days and Next 4 Days Predicted\")\n",
    "plt.xlabel('Date')\n",
    "plt.ylabel('Price')\n",
    "plt.legend()\n",
    "plt.show()"
   ]
  },
  {
   "cell_type": "code",
   "execution_count": null,
   "id": "54d29bd4",
   "metadata": {},
   "outputs": [],
   "source": []
  }
 ],
 "metadata": {
  "kernelspec": {
   "display_name": "pycaret",
   "language": "python",
   "name": "pycaret"
  },
  "language_info": {
   "codemirror_mode": {
    "name": "ipython",
    "version": 3
   },
   "file_extension": ".py",
   "mimetype": "text/x-python",
   "name": "python",
   "nbconvert_exporter": "python",
   "pygments_lexer": "ipython3",
   "version": "3.8.19"
  }
 },
 "nbformat": 4,
 "nbformat_minor": 5
}
